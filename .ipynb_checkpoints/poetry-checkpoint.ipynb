{
 "cells": [
  {
   "cell_type": "code",
   "execution_count": 23,
   "metadata": {},
   "outputs": [],
   "source": [
    "import numpy as np\n",
    "from keras import Sequential\n",
    "from keras.layers import Dense\n",
    "from keras.layers import Dropout\n",
    "from keras.layers import LSTM\n",
    "from keras.utils import to_categorical"
   ]
  },
  {
   "cell_type": "code",
   "execution_count": 2,
   "metadata": {},
   "outputs": [],
   "source": [
    "#Limiting characters to 20000 for quick code testing\n",
    "data = open('data.txt').read().lower()[:20000]"
   ]
  },
  {
   "cell_type": "code",
   "execution_count": 3,
   "metadata": {},
   "outputs": [
    {
     "name": "stdout",
     "output_type": "stream",
     "text": [
      "['\\n', ' ', '!', '&', \"'\", '(', ')', '*', ',', '-', '.', '0', '1', '2', '3', '4', '5', '6', '7', '8', '9', ':', ';', '@', '[', ']', 'a', 'b', 'c', 'd', 'e', 'f', 'g', 'h', 'i', 'j', 'k', 'l', 'm', 'n', 'o', 'p', 'q', 'r', 's', 't', 'u', 'v', 'w', 'x', 'y', 'z']\n",
      "20000\n"
     ]
    }
   ],
   "source": [
    "chars = sorted(list(set(data)))\n",
    "char_to_id = dict((c,i) for i,c in enumerate(chars))\n",
    "id_to_char = dict((i,c) for i,c in enumerate(chars))\n",
    "n_chars = len(chars)\n",
    "n_data = len(data)\n",
    "print(chars)\n",
    "print(n_data)"
   ]
  },
  {
   "cell_type": "code",
   "execution_count": 5,
   "metadata": {},
   "outputs": [
    {
     "name": "stdout",
     "output_type": "stream",
     "text": [
      "ancient poems, ballads and songs of the peasantry \n",
      "[26, 39, 28, 34, 30, 39, 45, 1, 41, 40, 30, 38, 44, 8, 1, 27, 26, 37, 37, 26, 29, 44, 1, 26, 39, 29, 1, 44, 40, 39, 32, 44, 1, 40, 31, 1, 45, 33, 30, 1, 41, 30, 26, 44, 26, 39, 45, 43, 50, 1, 40, 31, 1, 30, 39, 32, 37, 26, 39, 29, 1, 30, 29, 34, 45, 30, 29, 1, 0, 27, 50, 1, 43, 40, 27, 30, 43, 45, 1, 27, 30, 37, 37, 10, 1, 1, 12, 19, 16, 18, 1, 35, 40, 33, 39, 1, 48, 10, 1, 41]\n",
      "26\n"
     ]
    }
   ],
   "source": [
    "train_length = 100\n",
    "X = []\n",
    "Y = []\n",
    "for i in range(0,n_data - train_length):\n",
    "    X.append([char_to_id[char] for char in data[i:i+train_length]])\n",
    "    Y.append(char_to_id[data[i+train_length]])\n",
    "n_trainx = len(X)\n",
    "print(data[0:50])\n",
    "print(X[0])\n",
    "print(Y[0])"
   ]
  },
  {
   "cell_type": "code",
   "execution_count": 42,
   "metadata": {},
   "outputs": [],
   "source": [
    "y = to_categorical(Y)\n",
    "x = np.array(X).reshape(n_trainx,train_length,1)\n",
    "x = x/n_chars"
   ]
  },
  {
   "cell_type": "code",
   "execution_count": 57,
   "metadata": {},
   "outputs": [],
   "source": [
    "model = Sequential()\n",
    "model.add(LSTM(512))\n",
    "model.add(Dropout(0.2))\n",
    "model.add(Dense(y.shape[1], activation='softmax'))\n",
    "model.compile(loss='categorical_crossentropy', optimizer='adam')"
   ]
  },
  {
   "cell_type": "code",
   "execution_count": 58,
   "metadata": {
    "scrolled": true
   },
   "outputs": [
    {
     "name": "stdout",
     "output_type": "stream",
     "text": [
      "Epoch 1/40\n",
      "19900/19900 [==============================] - 236s 12ms/step - loss: 3.0808\n",
      "Epoch 2/40\n",
      "19900/19900 [==============================] - 245s 12ms/step - loss: 3.0327\n",
      "Epoch 3/40\n",
      "19900/19900 [==============================] - 245s 12ms/step - loss: 2.9932\n",
      "Epoch 4/40\n",
      "19900/19900 [==============================] - 249s 13ms/step - loss: 2.8988\n",
      "Epoch 5/40\n",
      "19900/19900 [==============================] - 247s 12ms/step - loss: 2.8571\n",
      "Epoch 6/40\n",
      "19900/19900 [==============================] - 248s 12ms/step - loss: 2.8194\n",
      "Epoch 7/40\n",
      "19900/19900 [==============================] - 249s 13ms/step - loss: 2.7902\n",
      "Epoch 8/40\n",
      "19900/19900 [==============================] - 253s 13ms/step - loss: 2.7585\n",
      "Epoch 9/40\n",
      "19900/19900 [==============================] - 249s 13ms/step - loss: 2.7333\n",
      "Epoch 10/40\n",
      "19900/19900 [==============================] - 248s 12ms/step - loss: 2.7066\n",
      "Epoch 11/40\n",
      "19900/19900 [==============================] - 250s 13ms/step - loss: 2.6755\n",
      "Epoch 12/40\n",
      "19900/19900 [==============================] - 250s 13ms/step - loss: 2.6318\n",
      "Epoch 13/40\n",
      "19900/19900 [==============================] - 342s 17ms/step - loss: 2.5788\n",
      "Epoch 14/40\n",
      "19900/19900 [==============================] - 359s 18ms/step - loss: 2.5213\n",
      "Epoch 15/40\n",
      "19900/19900 [==============================] - 360s 18ms/step - loss: 2.4701\n",
      "Epoch 16/40\n",
      "19900/19900 [==============================] - 356s 18ms/step - loss: 2.4312\n",
      "Epoch 17/40\n",
      "19900/19900 [==============================] - 23981s 1s/step - loss: 2.3916\n",
      "Epoch 18/40\n",
      "19900/19900 [==============================] - 340s 17ms/step - loss: 2.3487\n",
      "Epoch 19/40\n",
      "19900/19900 [==============================] - 361s 18ms/step - loss: 2.3046\n",
      "Epoch 20/40\n",
      "19900/19900 [==============================] - 361s 18ms/step - loss: 2.2495\n",
      "Epoch 21/40\n",
      "19900/19900 [==============================] - 360s 18ms/step - loss: 2.1878\n",
      "Epoch 22/40\n",
      "19900/19900 [==============================] - 1128s 57ms/step - loss: 2.1151\n",
      "Epoch 23/40\n",
      "19900/19900 [==============================] - 340s 17ms/step - loss: 2.0327\n",
      "Epoch 24/40\n",
      "19900/19900 [==============================] - 336s 17ms/step - loss: 1.9548\n",
      "Epoch 25/40\n",
      "19900/19900 [==============================] - 1186s 60ms/step - loss: 1.8546\n",
      "Epoch 26/40\n",
      "19900/19900 [==============================] - 246s 12ms/step - loss: 1.7588\n",
      "Epoch 27/40\n",
      "19900/19900 [==============================] - 248s 12ms/step - loss: 1.6450\n",
      "Epoch 28/40\n",
      "19900/19900 [==============================] - 255s 13ms/step - loss: 1.5245\n",
      "Epoch 29/40\n",
      "19900/19900 [==============================] - 258s 13ms/step - loss: 1.4433\n",
      "Epoch 30/40\n",
      "19900/19900 [==============================] - 265s 13ms/step - loss: 1.3078\n",
      "Epoch 31/40\n",
      "19900/19900 [==============================] - 266s 13ms/step - loss: 1.1888\n",
      "Epoch 32/40\n",
      "19900/19900 [==============================] - 264s 13ms/step - loss: 1.0668\n",
      "Epoch 33/40\n",
      "19900/19900 [==============================] - 261s 13ms/step - loss: 0.9565\n",
      "Epoch 34/40\n",
      "19900/19900 [==============================] - 258s 13ms/step - loss: 0.8854\n",
      "Epoch 35/40\n",
      "19900/19900 [==============================] - 254s 13ms/step - loss: 0.7581\n",
      "Epoch 36/40\n",
      "19900/19900 [==============================] - 254s 13ms/step - loss: 0.6548\n",
      "Epoch 37/40\n",
      "19900/19900 [==============================] - 255s 13ms/step - loss: 0.5836\n",
      "Epoch 38/40\n",
      "19900/19900 [==============================] - 254s 13ms/step - loss: 0.5499\n",
      "Epoch 39/40\n",
      "19900/19900 [==============================] - 254s 13ms/step - loss: 0.4692\n",
      "Epoch 40/40\n",
      "19900/19900 [==============================] - 257s 13ms/step - loss: 0.3940\n"
     ]
    },
    {
     "data": {
      "text/plain": [
       "<keras.callbacks.History at 0x1bd9ae86ef0>"
      ]
     },
     "execution_count": 58,
     "metadata": {},
     "output_type": "execute_result"
    }
   ],
   "source": [
    "model.fit(x,y,epochs=40,batch_size=128)"
   ]
  },
  {
   "cell_type": "code",
   "execution_count": 76,
   "metadata": {},
   "outputs": [
    {
     "name": "stdout",
     "output_type": "stream",
     "text": [
      ".\n",
      "lord delaware.\n",
      "lord bateman.\n",
      "the golden glove; or, the squire of tamworth.\n",
      "king james i. and the tinkler.\n",
      "the keach i' the creel.\n",
      "the merry broomfield; or, the west country wager.\n",
      "sir bohn tar bocre.\n",
      "forl teestit. the rurttrng horue.\n",
      "the seeds of love.\n",
      "the garden-gate.\n",
      "the new-mown hay.\n",
      "the praise of a dairy.\n",
      "the milk-maid's life.\n",
      "the milking-pail.\n",
      "the suemer's morning.\n",
      "old adam.\n",
      "tobacco.\n",
      "the spanish ladies.\n",
      "\n",
      "ard the waois oo haver.wt eenty.\n",
      "the borngsh pads song.\n",
      "the garden-gate.\n",
      "the new-mown\n"
     ]
    }
   ],
   "source": [
    "seed = np.random.randint(0,n_trainx-1)\n",
    "bot_poem_vector = X[seed]\n",
    "bot_poem = [id_to_char[i] for i in bot_poem_vector]\n",
    "char_limit = 400\n",
    "for i in range(char_limit):\n",
    "    botx = np.array(bot_poem_vector).reshape(1,train_length,1)\n",
    "    botx = botx/n_chars\n",
    "    pred_ind = np.argmax(model.predict(botx, verbose=0))\n",
    "    pred_char = id_to_char[pred_ind]\n",
    "    bot_poem_vector.append(pred_ind)\n",
    "    bot_poem.append(pred_char)\n",
    "    bot_poem_vector = bot_poem_vector[1:]\n",
    "bot_poem_finish = \"\".join(bot_poem)\n",
    "print(bot_poem_finish)"
   ]
  }
 ],
 "metadata": {
  "kernelspec": {
   "display_name": "Python 3",
   "language": "python",
   "name": "python3"
  },
  "language_info": {
   "codemirror_mode": {
    "name": "ipython",
    "version": 3
   },
   "file_extension": ".py",
   "mimetype": "text/x-python",
   "name": "python",
   "nbconvert_exporter": "python",
   "pygments_lexer": "ipython3",
   "version": "3.5.5"
  }
 },
 "nbformat": 4,
 "nbformat_minor": 2
}
